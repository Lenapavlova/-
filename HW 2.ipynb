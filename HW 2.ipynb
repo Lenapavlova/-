{
  "nbformat": 4,
  "nbformat_minor": 0,
  "metadata": {
    "colab": {
      "provenance": []
    },
    "kernelspec": {
      "name": "python3",
      "display_name": "Python 3"
    },
    "language_info": {
      "name": "python"
    }
  },
  "cells": [
    {
      "cell_type": "code",
      "source": [
        "class Node:\n",
        "    def __init__(self, data, nextNode):\n",
        "        self.data = data\n",
        "        self.nextNode = nextNode\n",
        "\n",
        "\n",
        "class List:\n",
        "    def __init__(self):\n",
        "        self.head = None\n",
        "        self.tail = None\n",
        "        return\n",
        "\n",
        "    def append(self, data):\n",
        "        if self.head is None:\n",
        "            self.head = Node(data, None)\n",
        "        else:\n",
        "            curNode = self.head\n",
        "            while curNode.nextNode is not None:\n",
        "                curNode = curNode.nextNode\n",
        "            curNode.nextNode = Node(data, None)\n",
        "\n",
        "    def repr(self):\n",
        "        curNode = self.head\n",
        "        while curNode is not None:\n",
        "            print(curNode.data)\n",
        "            curNode = curNode.nextNode\n",
        "\n",
        "    def reprRecursive(self):\n",
        "        self.repr_(self.head)\n",
        "\n",
        "    def repr_(self, node):\n",
        "        if node is not None:\n",
        "            print(node.data)\n",
        "            return self.repr_(node.nextNode)\n",
        "\n",
        "    def insert(self, pos, data):\n",
        "        self.insert_(self.head, 1, pos, data)\n",
        "\n",
        "    def insert_(self, node, j, pos, data):\n",
        "        if node is None:\n",
        "            print('out of range')\n",
        "            return\n",
        "        else:\n",
        "            if pos == j:\n",
        "                newNode = Node(data, node.nextNode)\n",
        "                node.nextNode = newNode\n",
        "                return\n",
        "            else:\n",
        "                j += 1\n",
        "                return self.insert_(node.nextNode, j, pos, data)\n",
        "\n",
        "    def delete(self):\n",
        "        pass"
      ],
      "metadata": {
        "id": "v0xwe6ENahC_"
      },
      "execution_count": 3,
      "outputs": []
    },
    {
      "cell_type": "code",
      "execution_count": 11,
      "metadata": {
        "id": "KtYHbIQccLWG"
      },
      "outputs": [],
      "source": [
        "    def find_loop(l):\n",
        "        el = False\n",
        "        curNode = l.head\n",
        "        un = set()\n",
        "        while not el:\n",
        "            if curNode is None:\n",
        "                return 'None'\n",
        "            elif curNode.data in un:\n",
        "                el = True\n",
        "            else:\n",
        "                un.add(curNode.data)\n",
        "                curNode = curNode.nextNode\n",
        "        return curNode.data"
      ]
    },
    {
      "cell_type": "code",
      "source": [
        "l = List()\n",
        "l.append(1)\n",
        "l.append(2)\n",
        "l.append(3)\n",
        "l.append(4)\n",
        "l.append(5)\n",
        "l.append(6)\n",
        "\n",
        "l.repr()\n",
        "\n",
        "l.head.nextNode.nextNode.nextNode = l.head.nextNode\n",
        "\n",
        "find_loop(l)"
      ],
      "metadata": {
        "colab": {
          "base_uri": "https://localhost:8080/"
        },
        "id": "XmUp-nfto9Vf",
        "outputId": "026ab3a1-a8c4-4af3-de6e-8c43abd159c8"
      },
      "execution_count": 13,
      "outputs": [
        {
          "output_type": "stream",
          "name": "stdout",
          "text": [
            "1\n",
            "2\n",
            "3\n",
            "4\n",
            "5\n",
            "6\n"
          ]
        },
        {
          "output_type": "execute_result",
          "data": {
            "text/plain": [
              "2"
            ]
          },
          "metadata": {},
          "execution_count": 13
        }
      ]
    },
    {
      "cell_type": "code",
      "source": [
        "    def find_loop_rep(l):\n",
        "        el = False\n",
        "        curNode = l.head\n",
        "        un = set()\n",
        "        while not el:\n",
        "            if curNode is None:\n",
        "                return 'None'\n",
        "            elif curNode in un:\n",
        "                el = True\n",
        "            else:\n",
        "                un.add(curNode)\n",
        "                curNode = curNode.nextNode\n",
        "        return curNode.data"
      ],
      "metadata": {
        "id": "Epo0PQnJahMY"
      },
      "execution_count": 18,
      "outputs": []
    },
    {
      "cell_type": "code",
      "source": [
        "l = List()\n",
        "l.append(1)\n",
        "l.append(1)\n",
        "l.append(2)\n",
        "l.append(2)\n",
        "l.append(3)\n",
        "l.append(3)\n",
        "\n",
        "l.repr()\n",
        "\n",
        "l.head.nextNode.nextNode.nextNode = l.head.nextNode\n",
        "\n",
        "find_loop_rep(l)"
      ],
      "metadata": {
        "colab": {
          "base_uri": "https://localhost:8080/"
        },
        "id": "OVD6PSwPo7qr",
        "outputId": "c268aed3-c698-41c1-d922-f9c126a4dc23"
      },
      "execution_count": 19,
      "outputs": [
        {
          "output_type": "stream",
          "name": "stdout",
          "text": [
            "1\n",
            "1\n",
            "2\n",
            "2\n",
            "3\n",
            "3\n"
          ]
        },
        {
          "output_type": "execute_result",
          "data": {
            "text/plain": [
              "1"
            ]
          },
          "metadata": {},
          "execution_count": 19
        }
      ]
    }
  ]
}
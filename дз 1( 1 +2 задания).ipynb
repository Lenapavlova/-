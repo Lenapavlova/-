{
  "nbformat": 4,
  "nbformat_minor": 0,
  "metadata": {
    "colab": {
      "provenance": []
    },
    "kernelspec": {
      "name": "python3",
      "display_name": "Python 3"
    },
    "language_info": {
      "name": "python"
    }
  },
  "cells": [
    {
      "cell_type": "code",
      "source": [
        "class Stack:\n",
        "    def __init__(self, stack):\n",
        "        self.stack = stack\n",
        "        return\n",
        "\n",
        "    def add_element(self, element):\n",
        "       self.stack.append(element)\n",
        "\n",
        "    def get_last_element(self):\n",
        "        if not self.stack is None:\n",
        "            return self.stack[-1]\n",
        "        else:\n",
        "            return None\n",
        "\n",
        "    def del_last_element(self):\n",
        "        self.stack.pop(-1)\n",
        "\n",
        "    def __repr__(self):\n",
        "        return str(self.stack)"
      ],
      "metadata": {
        "id": "EAB5pne0Ai2J"
      },
      "execution_count": 38,
      "outputs": []
    },
    {
      "cell_type": "markdown",
      "source": [],
      "metadata": {
        "id": "lbqqNX9GYYnE"
      }
    },
    {
      "cell_type": "code",
      "source": [
        "class Node:\n",
        "    def __init__(self, data):\n",
        "        self.data = data\n",
        "        self.prev = None\n",
        "        self.next = None\n",
        "\n",
        "class DLL:\n",
        "    def __init__(self):\n",
        "        self.head = None\n",
        "\n",
        "    def repr(self):\n",
        "        if self.head is None:\n",
        "            print(\"Empty\")\n",
        "        else:\n",
        "            current = self.head\n",
        "            while current:\n",
        "                print(current.data, end=\" \")\n",
        "                current = current.next\n",
        "\n",
        "    def insert_end(self, data):\n",
        "        n = Node(data)\n",
        "        current = self.head\n",
        "        while current.next is not None:\n",
        "            current = current.next\n",
        "        current.next = n\n",
        "        n.prev = current\n",
        "\n",
        "    def insert_pos(self, pos, data):\n",
        "        n = Node(data)\n",
        "        current = self.head\n",
        "        for i in range(1, pos-1):\n",
        "            current = current.next\n",
        "        n.prev = current\n",
        "        n.next = current.next\n",
        "        current.next.prev = n\n",
        "        current.next = n\n",
        "\n",
        "    def get_pos(self, pos):\n",
        "        current = self.head\n",
        "        for i in range(1, pos-1):\n",
        "            current = current.next\n",
        "        print(current.data)\n",
        "\n",
        "L = DLL()\n",
        "n1 = Node(10)\n",
        "L.head = n1\n",
        "\n",
        "L.insert_end(20)\n",
        "L.insert_pos(1, 15)\n",
        "L.get_pos(1)\n",
        "L.repr()"
      ],
      "metadata": {
        "colab": {
          "base_uri": "https://localhost:8080/"
        },
        "id": "noSizCep27PB",
        "outputId": "46d56cc5-c589-464b-a54f-3996c2ccbca7"
      },
      "execution_count": 29,
      "outputs": [
        {
          "output_type": "stream",
          "name": "stdout",
          "text": [
            "10\n",
            "10 15 20 "
          ]
        }
      ]
    }
  ]
}